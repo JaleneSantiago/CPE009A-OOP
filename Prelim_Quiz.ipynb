{
  "nbformat": 4,
  "nbformat_minor": 0,
  "metadata": {
    "colab": {
      "provenance": [],
      "authorship_tag": "ABX9TyPzigfBk604oYq9DemJAKUd",
      "include_colab_link": true
    },
    "kernelspec": {
      "name": "python3",
      "display_name": "Python 3"
    },
    "language_info": {
      "name": "python"
    }
  },
  "cells": [
    {
      "cell_type": "markdown",
      "metadata": {
        "id": "view-in-github",
        "colab_type": "text"
      },
      "source": [
        "<a href=\"https://colab.research.google.com/github/JaleneSantiago/CPE009A-OOP/blob/main/Prelim_Quiz.ipynb\" target=\"_parent\"><img src=\"https://colab.research.google.com/assets/colab-badge.svg\" alt=\"Open In Colab\"/></a>"
      ]
    },
    {
      "cell_type": "code",
      "execution_count": 2,
      "metadata": {
        "colab": {
          "base_uri": "https://localhost:8080/"
        },
        "id": "rdhDSQDdQ4m7",
        "outputId": "5ee55b23-e877-499b-daa3-22dca494ce1f"
      },
      "outputs": [
        {
          "output_type": "stream",
          "name": "stdout",
          "text": [
            "the sum is:  210\n",
            "the average is:  10.5\n"
          ]
        }
      ],
      "source": [
        "n=20\n",
        "totalnumbers=n\n",
        "sum=0\n",
        "\n",
        "while n>=0:\n",
        "  sum+=n\n",
        "  n-=1\n",
        "\n",
        "average=sum/totalnumbers\n",
        "\n",
        "print (\"the sum is: \",sum)\n",
        "print (\"the average is: \",average)\n"
      ]
    }
  ]
}