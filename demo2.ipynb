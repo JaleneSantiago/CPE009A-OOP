{
  "nbformat": 4,
  "nbformat_minor": 0,
  "metadata": {
    "colab": {
      "provenance": [],
      "authorship_tag": "ABX9TyOHqy7qCVctZ78Lfdvs3EKg",
      "include_colab_link": true
    },
    "kernelspec": {
      "name": "python3",
      "display_name": "Python 3"
    },
    "language_info": {
      "name": "python"
    }
  },
  "cells": [
    {
      "cell_type": "markdown",
      "metadata": {
        "id": "view-in-github",
        "colab_type": "text"
      },
      "source": [
        "<a href=\"https://colab.research.google.com/github/JaleneSantiago/CPE009A-OOP/blob/main/demo2.ipynb\" target=\"_parent\"><img src=\"https://colab.research.google.com/assets/colab-badge.svg\" alt=\"Open In Colab\"/></a>"
      ]
    },
    {
      "cell_type": "markdown",
      "source": [
        "Algorithms and Flowcharts"
      ],
      "metadata": {
        "id": "wKOAs0rJJdqY"
      }
    },
    {
      "cell_type": "markdown",
      "source": [
        "3 types of Algorithms\n",
        "\n",
        "*   English Sentence\n",
        "*   Pseudocode\n",
        "*   Source Code"
      ],
      "metadata": {
        "id": "I7ODFTY6NDe3"
      }
    },
    {
      "cell_type": "markdown",
      "source": [
        "To get the sum of 3 numbers"
      ],
      "metadata": {
        "id": "FxeeEkjZOJ-Q"
      }
    },
    {
      "cell_type": "code",
      "source": [
        "num1=50\n",
        "num2=50\n",
        "num3=50\n",
        "sum=num1+num2+num3\n",
        "average=sum/3\n",
        "print(sum)\n",
        "print(average)"
      ],
      "metadata": {
        "colab": {
          "base_uri": "https://localhost:8080/"
        },
        "id": "FAOmz7UmNHTf",
        "outputId": "76c1e300-674a-458a-c2c0-ce6376947598"
      },
      "execution_count": 4,
      "outputs": [
        {
          "output_type": "stream",
          "name": "stdout",
          "text": [
            "150\n",
            "50.0\n"
          ]
        }
      ]
    }
  ]
}