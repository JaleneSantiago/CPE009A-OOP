{
  "nbformat": 4,
  "nbformat_minor": 0,
  "metadata": {
    "colab": {
      "provenance": [],
      "authorship_tag": "ABX9TyP5JCX8aIHohNUYTqUGp8/I",
      "include_colab_link": true
    },
    "kernelspec": {
      "name": "python3",
      "display_name": "Python 3"
    },
    "language_info": {
      "name": "python"
    }
  },
  "cells": [
    {
      "cell_type": "markdown",
      "metadata": {
        "id": "view-in-github",
        "colab_type": "text"
      },
      "source": [
        "<a href=\"https://colab.research.google.com/github/JaleneSantiago/CPE009A-OOP/blob/main/Hands_on_Activity_1_0.ipynb\" target=\"_parent\"><img src=\"https://colab.research.google.com/assets/colab-badge.svg\" alt=\"Open In Colab\"/></a>"
      ]
    },
    {
      "cell_type": "markdown",
      "source": [
        "Python Variables"
      ],
      "metadata": {
        "id": "JtDiXJ4eOa9T"
      }
    },
    {
      "cell_type": "code",
      "source": [
        "x = float (1)\n",
        "a, b = 0, -1\n",
        "a, b, c = \"Katrina\", \"Rue\", \"Nate\"\n",
        "\n",
        "print('This is a sample')\n",
        "print (a)\n",
        "print (c)"
      ],
      "metadata": {
        "colab": {
          "base_uri": "https://localhost:8080/"
        },
        "id": "bUCgb9QQOewS",
        "outputId": "e3bcebf9-485f-40e7-d363-b488d601999d"
      },
      "execution_count": 2,
      "outputs": [
        {
          "output_type": "stream",
          "name": "stdout",
          "text": [
            "This is a sample\n",
            "Katrina\n",
            "Nate\n"
          ]
        }
      ]
    },
    {
      "cell_type": "markdown",
      "source": [
        "Casting"
      ],
      "metadata": {
        "id": "q_i9-dF2O31V"
      }
    },
    {
      "cell_type": "code",
      "source": [
        "print(x)"
      ],
      "metadata": {
        "colab": {
          "base_uri": "https://localhost:8080/"
        },
        "id": "73qFAkDTO5NZ",
        "outputId": "29e1f442-e7a5-41f7-b8b4-3720edddbfa0"
      },
      "execution_count": 3,
      "outputs": [
        {
          "output_type": "stream",
          "name": "stdout",
          "text": [
            "1.0\n"
          ]
        }
      ]
    },
    {
      "cell_type": "markdown",
      "source": [
        "Type()Function"
      ],
      "metadata": {
        "id": "xorLiqxxO-14"
      }
    },
    {
      "cell_type": "code",
      "source": [
        "y = \"Romblon\"\n",
        "\n",
        "print(type(y))\n",
        "print(type(x))"
      ],
      "metadata": {
        "colab": {
          "base_uri": "https://localhost:8080/"
        },
        "id": "9EHX4IdnPCph",
        "outputId": "f6b4cb49-8517-4c69-d084-d1683df83680"
      },
      "execution_count": 4,
      "outputs": [
        {
          "output_type": "stream",
          "name": "stdout",
          "text": [
            "<class 'str'>\n",
            "<class 'float'>\n"
          ]
        }
      ]
    },
    {
      "cell_type": "markdown",
      "source": [
        "Double Quotes and Single Quotes"
      ],
      "metadata": {
        "id": "Z09FivC1POJp"
      }
    },
    {
      "cell_type": "code",
      "source": [
        "#h = \"Good morning\"\n",
        "h = 'Good morning'\n",
        "v = 1\n",
        "V = 3\n",
        "\n",
        "print(h)\n",
        "print(v)\n",
        "print(v+1)"
      ],
      "metadata": {
        "colab": {
          "base_uri": "https://localhost:8080/"
        },
        "id": "miwpamfVPSUS",
        "outputId": "6f1dc506-ba61-4736-87ee-9209ea59b8dc"
      },
      "execution_count": 5,
      "outputs": [
        {
          "output_type": "stream",
          "name": "stdout",
          "text": [
            "Good morning\n",
            "1\n",
            "2\n"
          ]
        }
      ]
    },
    {
      "cell_type": "markdown",
      "source": [
        "Multiple Variables"
      ],
      "metadata": {
        "id": "VSRgOuhpPt3i"
      }
    },
    {
      "cell_type": "code",
      "source": [
        "x, y, z = \"Anna\", \"Marie\", 'Kay'\n",
        "\n",
        "print (x)\n",
        "print (y)\n",
        "print (z)\n",
        "print (x, y, z)"
      ],
      "metadata": {
        "colab": {
          "base_uri": "https://localhost:8080/"
        },
        "id": "WgHlD6QtPwzW",
        "outputId": "8806c5a9-aebf-48f1-9c96-7a14060b47f0"
      },
      "execution_count": 6,
      "outputs": [
        {
          "output_type": "stream",
          "name": "stdout",
          "text": [
            "Anna\n",
            "Marie\n",
            "Kay\n",
            "Anna Marie Kay\n"
          ]
        }
      ]
    },
    {
      "cell_type": "markdown",
      "source": [
        "One Value to Multiple Variables"
      ],
      "metadata": {
        "id": "9y2sW1jtTD0-"
      }
    },
    {
      "cell_type": "code",
      "source": [
        "x = y = z = \"Hello\"\n",
        "print (x, y, z)\n",
        "print (x)\n",
        "print (y)\n",
        "print (z)"
      ],
      "metadata": {
        "colab": {
          "base_uri": "https://localhost:8080/"
        },
        "id": "xR5aESgtTC3B",
        "outputId": "1d6b278f-9cc6-4704-ea98-7b3ff1efbd28"
      },
      "execution_count": 7,
      "outputs": [
        {
          "output_type": "stream",
          "name": "stdout",
          "text": [
            "Hello Hello Hello\n",
            "Hello\n",
            "Hello\n",
            "Hello\n"
          ]
        }
      ]
    },
    {
      "cell_type": "markdown",
      "source": [
        "Output Variables"
      ],
      "metadata": {
        "id": "RnVVRz14TYbX"
      }
    },
    {
      "cell_type": "code",
      "source": [
        "x = \"Python\"\n",
        "y = \"I love\"\n",
        "\n",
        "print(\"I love \" + x)\n",
        "print(y + \" \"+ x)"
      ],
      "metadata": {
        "colab": {
          "base_uri": "https://localhost:8080/"
        },
        "id": "9WFVLBzXTbAW",
        "outputId": "35c177e8-5153-429f-dd80-ba760aca17f6"
      },
      "execution_count": 8,
      "outputs": [
        {
          "output_type": "stream",
          "name": "stdout",
          "text": [
            "I love Python\n",
            "I love Python\n"
          ]
        }
      ]
    },
    {
      "cell_type": "markdown",
      "source": [
        "Arithmetic Operations"
      ],
      "metadata": {
        "id": "KsFOh4qKTthN"
      }
    },
    {
      "cell_type": "code",
      "source": [
        "m = 5\n",
        "o = 2\n",
        "n = 7\n",
        "\n",
        "print(m+n)\n",
        "print(m-n)\n",
        "print(o*n)\n",
        "print(int(m/o))\n",
        "print(5/m)\n",
        "print(5%m)\n",
        "print(5//m)\n",
        "print(5**2)"
      ],
      "metadata": {
        "colab": {
          "base_uri": "https://localhost:8080/"
        },
        "id": "Z5PkHPzJTyR3",
        "outputId": "3e9b6c73-e4b7-4f05-b613-39e6ff2fc094"
      },
      "execution_count": 9,
      "outputs": [
        {
          "output_type": "stream",
          "name": "stdout",
          "text": [
            "12\n",
            "-2\n",
            "14\n",
            "2\n",
            "1.0\n",
            "0\n",
            "1\n",
            "25\n"
          ]
        }
      ]
    },
    {
      "cell_type": "markdown",
      "source": [
        "Boolean Operators"
      ],
      "metadata": {
        "id": "EPTcds5cUZQb"
      }
    },
    {
      "cell_type": "code",
      "source": [
        "k=2\n",
        "l=3\n",
        "print(k>>2)#shift right twice\n",
        "print(k<<2)#shift left twice"
      ],
      "metadata": {
        "colab": {
          "base_uri": "https://localhost:8080/"
        },
        "id": "ycI9wfyxUb6F",
        "outputId": "e1db575e-a55c-4b6c-c8a3-e283365c4a77"
      },
      "execution_count": 10,
      "outputs": [
        {
          "output_type": "stream",
          "name": "stdout",
          "text": [
            "0\n",
            "8\n"
          ]
        }
      ]
    },
    {
      "cell_type": "markdown",
      "source": [
        "Relational Operators"
      ],
      "metadata": {
        "id": "lE7Uq2h4UnI3"
      }
    },
    {
      "cell_type": "code",
      "source": [
        "t=1\n",
        "v=2\n",
        "\n",
        "print(t>v)\n",
        "print(v==t)"
      ],
      "metadata": {
        "colab": {
          "base_uri": "https://localhost:8080/"
        },
        "id": "EFR-Nea1UqX3",
        "outputId": "b156a0f0-54f4-4be9-c4e5-9b278121051d"
      },
      "execution_count": 11,
      "outputs": [
        {
          "output_type": "stream",
          "name": "stdout",
          "text": [
            "False\n",
            "False\n"
          ]
        }
      ]
    },
    {
      "cell_type": "markdown",
      "source": [
        "Logical Operators"
      ],
      "metadata": {
        "id": "sxxZL1AIUyUE"
      }
    },
    {
      "cell_type": "code",
      "source": [
        "print(v<t and t==t)\n",
        "print(v<t or t==v)\n",
        "print(not (v<t or t==v))"
      ],
      "metadata": {
        "colab": {
          "base_uri": "https://localhost:8080/"
        },
        "id": "zvkFILugU0vk",
        "outputId": "766ac8fd-b795-42f6-b0d0-b1a1fa761af7"
      },
      "execution_count": 12,
      "outputs": [
        {
          "output_type": "stream",
          "name": "stdout",
          "text": [
            "False\n",
            "False\n",
            "True\n"
          ]
        }
      ]
    },
    {
      "cell_type": "markdown",
      "source": [
        "Identity Operators"
      ],
      "metadata": {
        "id": "6AJzXBlUVCza"
      }
    },
    {
      "cell_type": "code",
      "source": [
        "print(v is k)\n",
        "print(v is not k)"
      ],
      "metadata": {
        "colab": {
          "base_uri": "https://localhost:8080/"
        },
        "id": "xPa5kkqaVFHU",
        "outputId": "611e5911-8231-48ac-fdf8-9a68b7ada6d4"
      },
      "execution_count": 13,
      "outputs": [
        {
          "output_type": "stream",
          "name": "stdout",
          "text": [
            "True\n",
            "False\n"
          ]
        }
      ]
    }
  ]
}