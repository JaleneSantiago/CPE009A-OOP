{
  "nbformat": 4,
  "nbformat_minor": 0,
  "metadata": {
    "colab": {
      "provenance": [],
      "authorship_tag": "ABX9TyPBsz3ExyaM0UGugalpipkn",
      "include_colab_link": true
    },
    "kernelspec": {
      "name": "python3",
      "display_name": "Python 3"
    },
    "language_info": {
      "name": "python"
    }
  },
  "cells": [
    {
      "cell_type": "markdown",
      "metadata": {
        "id": "view-in-github",
        "colab_type": "text"
      },
      "source": [
        "<a href=\"https://colab.research.google.com/github/JaleneSantiago/CPE009A-OOP/blob/main/demo3.ipynb\" target=\"_parent\"><img src=\"https://colab.research.google.com/assets/colab-badge.svg\" alt=\"Open In Colab\"/></a>"
      ]
    },
    {
      "cell_type": "markdown",
      "source": [
        "Conditional Statement in Python:"
      ],
      "metadata": {
        "id": "2rh4onMoNQ1N"
      }
    },
    {
      "cell_type": "markdown",
      "source": [
        "If Statement"
      ],
      "metadata": {
        "id": "7PaUCknRN4OT"
      }
    },
    {
      "cell_type": "code",
      "source": [
        "a=12\n",
        "b=100\n",
        "if b>a:\n",
        "  print (\"b is greater than a\")"
      ],
      "metadata": {
        "colab": {
          "base_uri": "https://localhost:8080/"
        },
        "id": "EYscc6leNWGU",
        "outputId": "bd287c04-7e5e-47b6-944b-6ca98e7b90cc"
      },
      "execution_count": 1,
      "outputs": [
        {
          "output_type": "stream",
          "name": "stdout",
          "text": [
            "b is greater than a\n"
          ]
        }
      ]
    },
    {
      "cell_type": "markdown",
      "source": [
        "Elif Statement"
      ],
      "metadata": {
        "id": "lrqgl9-tOIhj"
      }
    },
    {
      "cell_type": "code",
      "source": [
        "a=12\n",
        "b=12\n",
        "if b>a:\n",
        "  print (\"b is greater than a\")\n",
        "elif a==b:\n",
        "  print (\"a and b are equal\")"
      ],
      "metadata": {
        "colab": {
          "base_uri": "https://localhost:8080/"
        },
        "id": "EqPiDHQGOMVc",
        "outputId": "2c1823c6-db5b-4783-a708-a744f4817ce6"
      },
      "execution_count": 6,
      "outputs": [
        {
          "output_type": "stream",
          "name": "stdout",
          "text": [
            "a and b are equal\n"
          ]
        }
      ]
    },
    {
      "cell_type": "markdown",
      "source": [
        "Else Statement"
      ],
      "metadata": {
        "id": "adYCv_sjQZoj"
      }
    },
    {
      "cell_type": "code",
      "source": [
        "a=200\n",
        "b=33\n",
        "if b>a:\n",
        "  print (\"b is greater than a\")\n",
        "elif a==b:\n",
        "  print (\"a and b are equal\")\n",
        "else:\n",
        "  print (\"a is greater than b\")"
      ],
      "metadata": {
        "colab": {
          "base_uri": "https://localhost:8080/"
        },
        "id": "mEYNTvdDOO0D",
        "outputId": "e81036d4-9424-4cc4-fd0f-9c0b48a00842"
      },
      "execution_count": 7,
      "outputs": [
        {
          "output_type": "stream",
          "name": "stdout",
          "text": [
            "a is greater than b\n"
          ]
        }
      ]
    },
    {
      "cell_type": "markdown",
      "source": [
        "Short Hand If Statement"
      ],
      "metadata": {
        "id": "1yTXEZ9LSLXk"
      }
    },
    {
      "cell_type": "code",
      "source": [
        "a=200\n",
        "b=100\n",
        "if a > b: print (\"a is greater than b\")"
      ],
      "metadata": {
        "colab": {
          "base_uri": "https://localhost:8080/"
        },
        "id": "pyNWJ3nSSOmA",
        "outputId": "3ebd858d-56ca-4359-a470-3d308444a0e1"
      },
      "execution_count": 11,
      "outputs": [
        {
          "output_type": "stream",
          "name": "stdout",
          "text": [
            "a is greater than b\n"
          ]
        }
      ]
    },
    {
      "cell_type": "markdown",
      "source": [
        "Short Hand If..Else Statement"
      ],
      "metadata": {
        "id": "mlAxdIqLSSJc"
      }
    },
    {
      "cell_type": "code",
      "source": [
        "a=2\n",
        "b=330\n",
        "print(\"A\") if a > b else print (\"B\")"
      ],
      "metadata": {
        "colab": {
          "base_uri": "https://localhost:8080/"
        },
        "id": "GKIR4SSeSVet",
        "outputId": "e8dd7016-a236-493d-8f74-c21f0aec4054"
      },
      "execution_count": 8,
      "outputs": [
        {
          "output_type": "stream",
          "name": "stdout",
          "text": [
            "B\n"
          ]
        }
      ]
    },
    {
      "cell_type": "markdown",
      "source": [
        "And-both conditions are true"
      ],
      "metadata": {
        "id": "HbElt1GRTt9M"
      }
    },
    {
      "cell_type": "code",
      "source": [
        "a=200\n",
        "b=33\n",
        "c=500\n",
        "if a>b and c>a:\n",
        "  print (\"Both conditions are True\")"
      ],
      "metadata": {
        "colab": {
          "base_uri": "https://localhost:8080/"
        },
        "id": "ODVbaKboTyRL",
        "outputId": "645439d8-ecd2-4b58-a114-56657caf6e86"
      },
      "execution_count": 12,
      "outputs": [
        {
          "output_type": "stream",
          "name": "stdout",
          "text": [
            "Both conditions are True\n"
          ]
        }
      ]
    },
    {
      "cell_type": "markdown",
      "source": [
        "Or-at least one of the conditions is true"
      ],
      "metadata": {
        "id": "x14X-70VU157"
      }
    },
    {
      "cell_type": "code",
      "source": [
        "a=200\n",
        "b=33\n",
        "c=500\n",
        "if a>b or a>c:\n",
        "  print(\"at least one of the conditions is true\")"
      ],
      "metadata": {
        "id": "eR3_6gZyUmQL"
      },
      "execution_count": null,
      "outputs": []
    },
    {
      "cell_type": "markdown",
      "source": [
        "Nested If"
      ],
      "metadata": {
        "id": "Q6FOwwz8VARb"
      }
    },
    {
      "cell_type": "code",
      "source": [
        "x=41\n",
        "if x>10:\n",
        "  print(\"above 10,\")\n",
        "  if x>20:\n",
        "    print(\"and also above 20!\")\n",
        "  else:\n",
        "    print (\"but not above 20.\")"
      ],
      "metadata": {
        "colab": {
          "base_uri": "https://localhost:8080/"
        },
        "id": "E3FY6QLSVCH0",
        "outputId": "85d6cb4e-1736-4b8c-c7e6-e8b59b21fde2"
      },
      "execution_count": 19,
      "outputs": [
        {
          "output_type": "stream",
          "name": "stdout",
          "text": [
            "above 10,\n",
            "and also above 20!\n"
          ]
        }
      ]
    },
    {
      "cell_type": "code",
      "source": [
        "x=30\n",
        "if x>10:\n",
        "  print(\"above 10,\")\n",
        "  if x>20:\n",
        "    print(\"and also above 20,\")\n",
        "    if x>30:\n",
        "      print(\"and also above 30,\")\n",
        "      if x>40:\n",
        "        print(\"and also above 40,\")\n",
        "        if x>50:\n",
        "          print(\"and also above 50\")\n",
        "        else:\n",
        "          print(\"but not above 50.\")\n",
        "      else:\n",
        "        print(\"but not above 40.\")\n",
        "    else:\n",
        "      print(\"but not above 30.\")\n",
        "  else:\n",
        "   print(\"but not above 20\")\n"
      ],
      "metadata": {
        "colab": {
          "base_uri": "https://localhost:8080/"
        },
        "id": "aXtsgiRSW_de",
        "outputId": "1099cc1b-583e-4902-d15a-98cb939bd512"
      },
      "execution_count": 35,
      "outputs": [
        {
          "output_type": "stream",
          "name": "stdout",
          "text": [
            "above 10,\n",
            "and also above 20,\n",
            "but not above 30.\n"
          ]
        }
      ]
    },
    {
      "cell_type": "markdown",
      "source": [
        "Example 1\n",
        "- write a program that determines if the input age is qualified to vote or not. The qualifying age is 18 years old and above."
      ],
      "metadata": {
        "id": "0L4IN3wzcJcl"
      }
    },
    {
      "cell_type": "code",
      "source": [
        "age=int(input(\"enter your age: \"))\n",
        "\n",
        "if age >= 18:\n",
        "  print(\"you are qualified to vote.\")\n",
        "else:\n",
        "    print(\"you are not yet qualified to vote.\")"
      ],
      "metadata": {
        "colab": {
          "base_uri": "https://localhost:8080/"
        },
        "id": "vFcwsMG_b3QS",
        "outputId": "c1a4600c-9129-4df1-bb8f-3fe0042ce0bb"
      },
      "execution_count": 40,
      "outputs": [
        {
          "output_type": "stream",
          "name": "stdout",
          "text": [
            "enter your age: 12\n",
            "you are not yet qualified to vote.\n"
          ]
        }
      ]
    },
    {
      "cell_type": "markdown",
      "source": [
        "Example 2\n",
        "- write a program that determines if the input number is positive, negative, or zero"
      ],
      "metadata": {
        "id": "iTNt4uZkdF96"
      }
    },
    {
      "cell_type": "code",
      "source": [
        "num=int(input(\"enter a number: \"))\n",
        "\n",
        "if num > 0:\n",
        "  print(\"the number is positive.\")\n",
        "elif num < 0:\n",
        "  print(\"the number is negative\")\n",
        "else:\n",
        "  print(\"the number is 0\")"
      ],
      "metadata": {
        "colab": {
          "base_uri": "https://localhost:8080/"
        },
        "id": "BaQwJJcZdZVZ",
        "outputId": "4a8ba253-52b4-446b-85bc-3b13acb6235c"
      },
      "execution_count": 44,
      "outputs": [
        {
          "output_type": "stream",
          "name": "stdout",
          "text": [
            "enter a number: 200\n",
            "the number is positive.\n"
          ]
        }
      ]
    },
    {
      "cell_type": "markdown",
      "source": [
        "Example 3: write a program to determine if the grades are:\n",
        "* if grade>=70, \"passed\"\n",
        "* grade is 65-69, \"remedial\n",
        "* grade is > 64 or below, \"failed\"\n",
        "* note: if the grade is a negative number, it will not be accepted"
      ],
      "metadata": {
        "id": "T_ssrJ4jeDRc"
      }
    },
    {
      "cell_type": "code",
      "source": [
        "grade=int(input(\"enter your grade: \"))\n",
        "\n",
        "if grade>=70:\n",
        "  print (\"Passed\")\n",
        "elif 65 <= grade <= 69:\n",
        "  print (\"Remedial\")\n",
        "elif grade<0:\n",
        "  print (\"Grade not accepted.\")\n",
        "else:\n",
        "  print (\"Failed\")"
      ],
      "metadata": {
        "colab": {
          "base_uri": "https://localhost:8080/"
        },
        "id": "iYDDqg7WfYxC",
        "outputId": "78ba06f3-396e-4f30-a2d5-94d825d2c713"
      },
      "execution_count": 52,
      "outputs": [
        {
          "output_type": "stream",
          "name": "stdout",
          "text": [
            "enter your grade: 50\n",
            "Failed\n"
          ]
        }
      ]
    }
  ]
}