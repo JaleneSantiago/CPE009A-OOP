{
  "nbformat": 4,
  "nbformat_minor": 0,
  "metadata": {
    "colab": {
      "provenance": [],
      "authorship_tag": "ABX9TyNpJtErC7BY4lcszqOiYf7y",
      "include_colab_link": true
    },
    "kernelspec": {
      "name": "python3",
      "display_name": "Python 3"
    },
    "language_info": {
      "name": "python"
    }
  },
  "cells": [
    {
      "cell_type": "markdown",
      "metadata": {
        "id": "view-in-github",
        "colab_type": "text"
      },
      "source": [
        "<a href=\"https://colab.research.google.com/github/JaleneSantiago/CPE009A-OOP/blob/main/Concepts_of_OOP_2.ipynb\" target=\"_parent\"><img src=\"https://colab.research.google.com/assets/colab-badge.svg\" alt=\"Open In Colab\"/></a>"
      ]
    },
    {
      "cell_type": "markdown",
      "source": [
        "Classes with Multiple Objects"
      ],
      "metadata": {
        "id": "v2uABXKccbHQ"
      }
    },
    {
      "cell_type": "code",
      "execution_count": 4,
      "metadata": {
        "colab": {
          "base_uri": "https://localhost:8080/"
        },
        "id": "okCiMXaocJ13",
        "outputId": "e07906fb-e9a5-40de-f1f3-67a05d60302f"
      },
      "outputs": [
        {
          "output_type": "stream",
          "name": "stdout",
          "text": [
            "Griffon Vulture flies above clouds\n",
            "Common Crane flies above clouds\n",
            "Emu is the national bird of Philippines\n"
          ]
        }
      ],
      "source": [
        "class Birds:\n",
        "  def __init__(self, bird_name):\n",
        "    self.bird_name = bird_name\n",
        "  def flying_birds(self):\n",
        "    print(f\"{self.bird_name} flies above clouds\")\n",
        "  def non_flying_birds(self):\n",
        "    print(f\"{self.bird_name} is the national bird of Philippines\" )\n",
        "\n",
        "vulture = Birds(\"Griffon Vulture\")\n",
        "crane = Birds(\"Common Crane\")\n",
        "emu = Birds(\"Emu\")\n",
        "vulture.flying_birds()\n",
        "crane.flying_birds()\n",
        "emu.non_flying_birds()"
      ]
    },
    {
      "cell_type": "markdown",
      "source": [
        "Encapsulation"
      ],
      "metadata": {
        "id": "f2pjEKt4djy5"
      }
    },
    {
      "cell_type": "code",
      "source": [
        "class foo:\n",
        "  def __init__(self, a, b):\n",
        "    self.a = a\n",
        "    self.b = b\n",
        "  def add(self):\n",
        "    return self.a + self.b\n",
        "foo_object = foo(3,4)\n",
        "foo_object.add()"
      ],
      "metadata": {
        "colab": {
          "base_uri": "https://localhost:8080/"
        },
        "id": "NhEXJ_zAdlgZ",
        "outputId": "f1635a24-7155-446e-bb51-63e22c44ebc3"
      },
      "execution_count": 6,
      "outputs": [
        {
          "output_type": "execute_result",
          "data": {
            "text/plain": [
              "7"
            ]
          },
          "metadata": {},
          "execution_count": 6
        }
      ]
    },
    {
      "cell_type": "code",
      "source": [
        "class Counter:\n",
        "  def __init__(self):\n",
        "    self.current = 0\n",
        "  def increment(self):\n",
        "    self.current += 1\n",
        "  def value(self):\n",
        "    return self.current\n",
        "  def reset(self):\n",
        "    self.current = 0\n",
        "\n",
        "counter = Counter()\n",
        "\n",
        "counter.increment() #1\n",
        "counter.increment() #2\n",
        "counter.increment() #3\n",
        "\n",
        "print(counter.value())"
      ],
      "metadata": {
        "colab": {
          "base_uri": "https://localhost:8080/"
        },
        "id": "aC0UlIqgdymw",
        "outputId": "449ad769-5ac5-48f4-f1cc-07d7000fb5e0"
      },
      "execution_count": 7,
      "outputs": [
        {
          "output_type": "stream",
          "name": "stdout",
          "text": [
            "3\n"
          ]
        }
      ]
    },
    {
      "cell_type": "markdown",
      "source": [
        "Inheritance, Encapsulation, and Creating Multiple Object Names"
      ],
      "metadata": {
        "id": "JWHB2rzSfu_p"
      }
    },
    {
      "cell_type": "code",
      "source": [
        "class RegularPolygon: #creates the super class name RegularPolygon\n",
        "  def __init__(self,side):\n",
        "    self.side = side\n",
        "class Square(RegularPolygon): #inherits the properties of superclass RegularPolygon\n",
        "  def area(self): #defines the method/function to get the area of a square\n",
        "    return self.side * self.side\n",
        "class EquilateralTriangle(RegularPolygon):\n",
        "  def area(self): #defines the method/function to get the area of an eqilateral triangle\n",
        "    return self.side * self.side * 0.433\n",
        "\n",
        "square = Square (4) #creates and object name square\n",
        "print(square.area()) #prints the instance of the attribute of Square class\n",
        "equiltriangle = EquilateralTriangle(4) #creates and object name equiltriangle\n",
        "print(equiltriangle.area()) #prints the instance of the attribute of Equilateral Triangle class"
      ],
      "metadata": {
        "colab": {
          "base_uri": "https://localhost:8080/"
        },
        "id": "aEtXlhW6fzE_",
        "outputId": "f92e8217-74ea-48ce-9f88-6f3bf49590db"
      },
      "execution_count": 13,
      "outputs": [
        {
          "output_type": "stream",
          "name": "stdout",
          "text": [
            "16\n",
            "6.928\n"
          ]
        }
      ]
    },
    {
      "cell_type": "markdown",
      "source": [
        "Encapsulation using Mangling (double underscore)"
      ],
      "metadata": {
        "id": "2DTRbNhSrUf-"
      }
    },
    {
      "cell_type": "code",
      "source": [
        "class RegularPolygon: #creates the super class name RegularPolygon\n",
        "  def __init__(self,side):\n",
        "    self._side = side\n",
        "  def area(self): #defines the method/function to get the area of a square\n",
        "    print(self._side*self._side)\n",
        "class Square(RegularPolygon): #inherits the properties of superclass RegularPolygon\n",
        "  pass\n",
        "\n",
        "square = Square(4)\n",
        "square.area()"
      ],
      "metadata": {
        "colab": {
          "base_uri": "https://localhost:8080/"
        },
        "id": "PzHwLgrprsWU",
        "outputId": "a06139de-1bf9-421b-b4fc-1eaee216a6f4"
      },
      "execution_count": 17,
      "outputs": [
        {
          "output_type": "stream",
          "name": "stdout",
          "text": [
            "16\n"
          ]
        }
      ]
    },
    {
      "cell_type": "markdown",
      "source": [
        "Application 1:"
      ],
      "metadata": {
        "id": "gpdMsWwU0a52"
      }
    },
    {
      "cell_type": "code",
      "source": [
        "class Person:\n",
        "    def __init__(self, std1, std2, std3, pre, mid, fin): #attributes for students and grades\n",
        "        self._std1 = std1\n",
        "        self._std2 = std2\n",
        "        self._std3 = std3\n",
        "        self._pre = pre\n",
        "        self._mid = mid\n",
        "        self._fin = fin\n",
        "\n",
        "    def _average_grade(self, grade1, grade2, grade3): #grade method to calculate average of three grades\n",
        "        return (grade1 + grade2 + grade3) / 3\n",
        "\n",
        "    def get_average_grades(self): #method to calculate average grades for each term\n",
        "        pre_avg = self._average_grade(self._pre[0], self._pre[1], self._pre[2])\n",
        "        mid_avg = self._average_grade(self._mid[0], self._mid[1], self._mid[2])\n",
        "        fin_avg = self._average_grade(self._fin[0], self._fin[1], self._fin[2])\n",
        "        return pre_avg, mid_avg, fin_avg\n",
        "\n",
        "    def display_grades(self): #prints students' names and their average grades for each term\n",
        "        print(\"Average Grade of\", self._std1, self.get_average_grades()[0])\n",
        "        print(\"Average Grade of\", self._std2, self.get_average_grades()[1])\n",
        "        print(\"Average Grade of\", self._std3, self.get_average_grades()[2])\n",
        "\n",
        "person = Person(\"student 1:\", \"student 2:\", \"student 3:\", [85, 90, 91], [75, 80, 80], [70, 85, 90]) #example\n",
        "person.display_grades()\n"
      ],
      "metadata": {
        "colab": {
          "base_uri": "https://localhost:8080/"
        },
        "id": "ZYJzjuCDunE8",
        "outputId": "472e43d4-37d6-43d2-b30e-dd9f06ad1a72"
      },
      "execution_count": 28,
      "outputs": [
        {
          "output_type": "stream",
          "name": "stdout",
          "text": [
            "Average Grade of student 1: 88.66666666666667\n",
            "Average Grade of student 2: 78.33333333333333\n",
            "Average Grade of student 3: 81.66666666666667\n"
          ]
        }
      ]
    }
  ]
}