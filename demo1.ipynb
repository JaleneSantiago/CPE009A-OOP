{
  "nbformat": 4,
  "nbformat_minor": 0,
  "metadata": {
    "colab": {
      "provenance": [],
      "authorship_tag": "ABX9TyODiJB0MQQaUASoH1k7cLyi",
      "include_colab_link": true
    },
    "kernelspec": {
      "name": "python3",
      "display_name": "Python 3"
    },
    "language_info": {
      "name": "python"
    }
  },
  "cells": [
    {
      "cell_type": "markdown",
      "metadata": {
        "id": "view-in-github",
        "colab_type": "text"
      },
      "source": [
        "<a href=\"https://colab.research.google.com/github/JaleneSantiago/CPE009A-OOP/blob/main/demo1.ipynb\" target=\"_parent\"><img src=\"https://colab.research.google.com/assets/colab-badge.svg\" alt=\"Open In Colab\"/></a>"
      ]
    },
    {
      "cell_type": "markdown",
      "source": [
        "Python Indentation"
      ],
      "metadata": {
        "id": "cu3UmSOHHrw2"
      }
    },
    {
      "cell_type": "code",
      "source": [
        "if 5>2:\n",
        "  print(\"Five is greater than two\")"
      ],
      "metadata": {
        "colab": {
          "base_uri": "https://localhost:8080/"
        },
        "id": "XBEL3VCrIVcc",
        "outputId": "9dace561-e53f-4f4e-c41e-85ef68a13b0c"
      },
      "execution_count": 2,
      "outputs": [
        {
          "output_type": "stream",
          "name": "stdout",
          "text": [
            "Five is greater than two\n"
          ]
        }
      ]
    },
    {
      "cell_type": "markdown",
      "source": [
        "Python Comments"
      ],
      "metadata": {
        "id": "e6iI0lNwJ2TG"
      }
    },
    {
      "cell_type": "code",
      "source": [
        "if 5>2:\n",
        "  print(\"Five is greater than two\") #comparison of numbers 5 and 2"
      ],
      "metadata": {
        "id": "K4JBNVTLJ5s8"
      },
      "execution_count": 2,
      "outputs": []
    },
    {
      "cell_type": "markdown",
      "source": [
        "Python Variable"
      ],
      "metadata": {
        "id": "9yH2N51SLjlV"
      }
    },
    {
      "cell_type": "code",
      "source": [
        "x=1 #this is a single variable with a value\n",
        "a,b=0,-1\n",
        "\n",
        "print (a)\n",
        "print (b)\n",
        "print (x)\n",
        "\n",
        "b=\"Sally\"\n",
        "print (b)"
      ],
      "metadata": {
        "colab": {
          "base_uri": "https://localhost:8080/"
        },
        "id": "MPuhY21mLnPs",
        "outputId": "3a7b907d-3b14-4f1e-f0af-2f3ed88c8aab"
      },
      "execution_count": 6,
      "outputs": [
        {
          "output_type": "stream",
          "name": "stdout",
          "text": [
            "0\n",
            "-1\n",
            "1\n",
            "Sally\n"
          ]
        }
      ]
    },
    {
      "cell_type": "markdown",
      "source": [
        "Python Casting"
      ],
      "metadata": {
        "id": "aCiDxkmTNbze"
      }
    },
    {
      "cell_type": "code",
      "source": [
        "b=\"sally\" #this is a type of string\n",
        "b=int(4)\n",
        "print(b)\n",
        "\n",
        "b=float(4)\n",
        "print(b)"
      ],
      "metadata": {
        "colab": {
          "base_uri": "https://localhost:8080/"
        },
        "id": "9qHXBE0dNfQ0",
        "outputId": "5b07003a-2031-4b30-9aac-cecf534905c9"
      },
      "execution_count": 7,
      "outputs": [
        {
          "output_type": "stream",
          "name": "stdout",
          "text": [
            "4\n",
            "4.0\n"
          ]
        }
      ]
    },
    {
      "cell_type": "markdown",
      "source": [
        "Python Type() Function"
      ],
      "metadata": {
        "id": "oKIGd1U0OLc8"
      }
    },
    {
      "cell_type": "code",
      "source": [
        "x=5\n",
        "y=\"John\"\n",
        "print(type(x))\n",
        "print (type(y))"
      ],
      "metadata": {
        "colab": {
          "base_uri": "https://localhost:8080/"
        },
        "id": "fZce1QrPOTsl",
        "outputId": "3d4db9d9-77d9-40b2-9182-20c349b7bdc3"
      },
      "execution_count": 8,
      "outputs": [
        {
          "output_type": "stream",
          "name": "stdout",
          "text": [
            "<class 'int'>\n",
            "<class 'str'>\n"
          ]
        }
      ]
    },
    {
      "cell_type": "markdown",
      "source": [
        "Double Quotes or Single Quotes"
      ],
      "metadata": {
        "id": "Qrrn24AJPOjk"
      }
    },
    {
      "cell_type": "code",
      "source": [
        "y=\"John\"\n",
        "print (y)\n",
        "\n",
        "y='John'\n",
        "print (y)"
      ],
      "metadata": {
        "colab": {
          "base_uri": "https://localhost:8080/"
        },
        "id": "f40HyLdFPSVk",
        "outputId": "e47f5796-b17b-4d5a-9159-e60835612181"
      },
      "execution_count": 9,
      "outputs": [
        {
          "output_type": "stream",
          "name": "stdout",
          "text": [
            "John\n",
            "John\n"
          ]
        }
      ]
    },
    {
      "cell_type": "markdown",
      "source": [
        "Case Sensitive"
      ],
      "metadata": {
        "id": "j5HFrZjGPy20"
      }
    },
    {
      "cell_type": "code",
      "source": [
        "a=4\n",
        "A=\"Sally\"\n",
        "#A will not overwrite a"
      ],
      "metadata": {
        "id": "3oMX2pyTP0yk"
      },
      "execution_count": 11,
      "outputs": []
    },
    {
      "cell_type": "markdown",
      "source": [
        "Multiple Variables"
      ],
      "metadata": {
        "id": "HLs5up_mQK6s"
      }
    },
    {
      "cell_type": "code",
      "source": [
        "x,y,z = \"one\",\"two\",\"three\"\n",
        "print (x)\n",
        "print (y)\n",
        "print (z)"
      ],
      "metadata": {
        "colab": {
          "base_uri": "https://localhost:8080/"
        },
        "id": "_QWapllwQRW8",
        "outputId": "8a9447e1-ba0b-4514-a54b-1841e41ee7fa"
      },
      "execution_count": 12,
      "outputs": [
        {
          "output_type": "stream",
          "name": "stdout",
          "text": [
            "one\n",
            "two\n",
            "three\n"
          ]
        }
      ]
    },
    {
      "cell_type": "markdown",
      "source": [
        "One Value to Multiple Variables"
      ],
      "metadata": {
        "id": "QG1ADJdjQ3Rc"
      }
    },
    {
      "cell_type": "code",
      "source": [
        "x=y=z=\"four\"\n",
        "print (x)\n",
        "print (y)\n",
        "print (z)\n"
      ],
      "metadata": {
        "colab": {
          "base_uri": "https://localhost:8080/"
        },
        "id": "BPu1Jk5tQ6Ql",
        "outputId": "d908fc0e-4099-47cc-cec3-bbc3f0368fb6"
      },
      "execution_count": 14,
      "outputs": [
        {
          "output_type": "stream",
          "name": "stdout",
          "text": [
            "four\n",
            "four\n",
            "four\n"
          ]
        }
      ]
    },
    {
      "cell_type": "markdown",
      "source": [
        "Output Variables"
      ],
      "metadata": {
        "id": "QyJcIbZVRKA0"
      }
    },
    {
      "cell_type": "code",
      "source": [
        "x=\"enjoying\"\n",
        "print(\"Python programming is\" + \" \" + x)"
      ],
      "metadata": {
        "colab": {
          "base_uri": "https://localhost:8080/"
        },
        "id": "xCwr2F9lRNeN",
        "outputId": "af8ad973-4b4b-49c4-f693-0d7480a9b4f1"
      },
      "execution_count": 22,
      "outputs": [
        {
          "output_type": "stream",
          "name": "stdout",
          "text": [
            "Python programming is enjoying\n"
          ]
        }
      ]
    },
    {
      "cell_type": "markdown",
      "source": [
        "Other way"
      ],
      "metadata": {
        "id": "pKa-QY-jR7yc"
      }
    },
    {
      "cell_type": "code",
      "source": [
        "x=\"Python is \"\n",
        "y=\"enjoying\"\n",
        "z=x+y\n",
        "print (z)"
      ],
      "metadata": {
        "colab": {
          "base_uri": "https://localhost:8080/"
        },
        "id": "twmY-1T0R9rd",
        "outputId": "06155aeb-74b6-4363-a0c1-013ad44852ef"
      },
      "execution_count": 24,
      "outputs": [
        {
          "output_type": "stream",
          "name": "stdout",
          "text": [
            "Python is enjoying\n"
          ]
        }
      ]
    },
    {
      "cell_type": "markdown",
      "source": [
        "Arithmetic Operations"
      ],
      "metadata": {
        "id": "bvPGQCW-VH48"
      }
    },
    {
      "cell_type": "code",
      "source": [
        "x=5\n",
        "y=3\n",
        "print (x+y)\n",
        "\n",
        "x=5\n",
        "y=3\n",
        "sum=x+y\n",
        "sum"
      ],
      "metadata": {
        "colab": {
          "base_uri": "https://localhost:8080/"
        },
        "id": "7IU32V8aVKtm",
        "outputId": "86ac901a-4528-4ee9-b9b4-7f6ad7da7c55"
      },
      "execution_count": 25,
      "outputs": [
        {
          "output_type": "stream",
          "name": "stdout",
          "text": [
            "8\n"
          ]
        },
        {
          "output_type": "execute_result",
          "data": {
            "text/plain": [
              "8"
            ]
          },
          "metadata": {},
          "execution_count": 25
        }
      ]
    },
    {
      "cell_type": "markdown",
      "source": [
        "Assignment Operators"
      ],
      "metadata": {
        "id": "VBKkWmmLV2Z8"
      }
    },
    {
      "cell_type": "code",
      "source": [
        "a,b,c=0,-1,6\n",
        "c%=3\n",
        "c"
      ],
      "metadata": {
        "colab": {
          "base_uri": "https://localhost:8080/"
        },
        "id": "FHQPtGy4V5jt",
        "outputId": "a69e8c0a-32ff-4da5-d653-48c5efc7ad05"
      },
      "execution_count": 26,
      "outputs": [
        {
          "output_type": "execute_result",
          "data": {
            "text/plain": [
              "0"
            ]
          },
          "metadata": {},
          "execution_count": 26
        }
      ]
    },
    {
      "cell_type": "markdown",
      "source": [
        "Comparison Operators"
      ],
      "metadata": {
        "id": "fi6MeNgVWaYL"
      }
    },
    {
      "cell_type": "code",
      "source": [
        "x=1\n",
        "y=1\n",
        "x==y"
      ],
      "metadata": {
        "colab": {
          "base_uri": "https://localhost:8080/"
        },
        "id": "o18NlllVWcdM",
        "outputId": "4ecb7925-492b-4158-f67e-a705422ece2c"
      },
      "execution_count": 27,
      "outputs": [
        {
          "output_type": "execute_result",
          "data": {
            "text/plain": [
              "True"
            ]
          },
          "metadata": {},
          "execution_count": 27
        }
      ]
    },
    {
      "cell_type": "markdown",
      "source": [
        "Logical Operators"
      ],
      "metadata": {
        "id": "-TQH2t7eW1Dz"
      }
    },
    {
      "cell_type": "code",
      "source": [
        "x=1\n",
        "x<5 and x<10"
      ],
      "metadata": {
        "colab": {
          "base_uri": "https://localhost:8080/"
        },
        "id": "j9Tc2QJ_W3gb",
        "outputId": "93a1ee53-e9bc-4ee0-a16d-0024ac0586f4"
      },
      "execution_count": 28,
      "outputs": [
        {
          "output_type": "execute_result",
          "data": {
            "text/plain": [
              "True"
            ]
          },
          "metadata": {},
          "execution_count": 28
        }
      ]
    },
    {
      "cell_type": "markdown",
      "source": [
        "Identity Operators"
      ],
      "metadata": {
        "id": "mXYxlyhDXdYL"
      }
    },
    {
      "cell_type": "code",
      "source": [
        "a,b,c=0,-1,5\n",
        "a is c"
      ],
      "metadata": {
        "colab": {
          "base_uri": "https://localhost:8080/"
        },
        "id": "-j7gpl8EXg0N",
        "outputId": "f88b4fce-327b-4ef8-c39c-362ecf04ef2e"
      },
      "execution_count": 32,
      "outputs": [
        {
          "output_type": "execute_result",
          "data": {
            "text/plain": [
              "False"
            ]
          },
          "metadata": {},
          "execution_count": 32
        }
      ]
    },
    {
      "cell_type": "markdown",
      "source": [
        "Bitwise Operators"
      ],
      "metadata": {
        "id": "XLQydkF8X_N0"
      }
    },
    {
      "cell_type": "code",
      "source": [
        "1 ^ 2"
      ],
      "metadata": {
        "colab": {
          "base_uri": "https://localhost:8080/"
        },
        "id": "8EiZDhX2a1kE",
        "outputId": "6b8ccaa9-285c-4b87-918e-30911f443492"
      },
      "execution_count": 33,
      "outputs": [
        {
          "output_type": "execute_result",
          "data": {
            "text/plain": [
              "3"
            ]
          },
          "metadata": {},
          "execution_count": 33
        }
      ]
    }
  ]
}