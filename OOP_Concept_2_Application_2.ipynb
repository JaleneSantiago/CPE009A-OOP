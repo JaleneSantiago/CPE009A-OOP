{
  "nbformat": 4,
  "nbformat_minor": 0,
  "metadata": {
    "colab": {
      "provenance": [],
      "authorship_tag": "ABX9TyOcMxTEl93WGJf4rnTCTcwE",
      "include_colab_link": true
    },
    "kernelspec": {
      "name": "python3",
      "display_name": "Python 3"
    },
    "language_info": {
      "name": "python"
    }
  },
  "cells": [
    {
      "cell_type": "markdown",
      "metadata": {
        "id": "view-in-github",
        "colab_type": "text"
      },
      "source": [
        "<a href=\"https://colab.research.google.com/github/JaleneSantiago/CPE009A-OOP/blob/main/OOP_Concept_2_Application_2.ipynb\" target=\"_parent\"><img src=\"https://colab.research.google.com/assets/colab-badge.svg\" alt=\"Open In Colab\"/></a>"
      ]
    },
    {
      "cell_type": "code",
      "source": [
        "class Shapes:\n",
        "  def __init__(self,name,sides):\n",
        "    self.__name = name\n",
        "    self.__sides = sides\n",
        "\n",
        "  def numOfsides(self):\n",
        "    print(f\"{self.__name}'s number of sides are {self.__sides}\")\n",
        "\n",
        "class Shape1(Shapes):\n",
        "  pass\n",
        "class Shape2(Shapes):\n",
        "  pass\n",
        "class Shape3(Shapes):\n",
        "  pass\n",
        "class Shape4(Shapes):\n",
        "  pass\n",
        "class Shape5(Shapes):\n",
        "  pass\n",
        "\n",
        "shape1 = Shape1(\"Scalene\",3)\n",
        "shape2 = Shape2(\"Parallelogram\",4)\n",
        "shape3 = Shape3(\"Octagon\",8)\n",
        "shape4 = Shape4(\"Hendecagon\",11)\n",
        "shape5 = Shape5(\"Dodecagon\",12)\n",
        "\n",
        "shape1.numOfsides()\n",
        "shape2.numOfsides()\n",
        "shape3.numOfsides()\n",
        "shape4.numOfsides()\n",
        "shape5.numOfsides()"
      ],
      "metadata": {
        "colab": {
          "base_uri": "https://localhost:8080/"
        },
        "id": "NwwqcQvbxy4y",
        "outputId": "b9e5ec1f-e07d-45d5-d53a-2bf1650844de"
      },
      "execution_count": 3,
      "outputs": [
        {
          "output_type": "stream",
          "name": "stdout",
          "text": [
            "Scalene's number of sides are 3\n",
            "Parallelogram's number of sides are 4\n",
            "Octagon's number of sides are 8\n",
            "Hendecagon's number of sides are 11\n",
            "Dodecagon's number of sides are 12\n"
          ]
        }
      ]
    }
  ]
}