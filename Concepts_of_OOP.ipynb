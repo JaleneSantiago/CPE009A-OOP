{
  "nbformat": 4,
  "nbformat_minor": 0,
  "metadata": {
    "colab": {
      "provenance": [],
      "authorship_tag": "ABX9TyNVPGnFzUA5tcRu787Z59aT",
      "include_colab_link": true
    },
    "kernelspec": {
      "name": "python3",
      "display_name": "Python 3"
    },
    "language_info": {
      "name": "python"
    }
  },
  "cells": [
    {
      "cell_type": "markdown",
      "metadata": {
        "id": "view-in-github",
        "colab_type": "text"
      },
      "source": [
        "<a href=\"https://colab.research.google.com/github/JaleneSantiago/CPE009A-OOP/blob/main/Concepts_of_OOP.ipynb\" target=\"_parent\"><img src=\"https://colab.research.google.com/assets/colab-badge.svg\" alt=\"Open In Colab\"/></a>"
      ]
    },
    {
      "cell_type": "markdown",
      "source": [
        "Class"
      ],
      "metadata": {
        "id": "xN983TjEjMHy"
      }
    },
    {
      "cell_type": "code",
      "execution_count": 2,
      "metadata": {
        "colab": {
          "base_uri": "https://localhost:8080/"
        },
        "id": "uyXhbt3Gg_U5",
        "outputId": "3cbab9d9-09af-4c75-be80-c1152587ce88"
      },
      "outputs": [
        {
          "output_type": "stream",
          "name": "stdout",
          "text": [
            "<__main__.Car object at 0x79f79ac3d4e0>\n"
          ]
        }
      ],
      "source": [
        "class Car:\n",
        "  pass\n",
        "\n",
        "obj1=Car()\n",
        "print(obj1)"
      ]
    },
    {
      "cell_type": "markdown",
      "source": [
        "Class Constructors and Methods"
      ],
      "metadata": {
        "id": "FOkEfcjOjOFj"
      }
    },
    {
      "cell_type": "code",
      "source": [
        "class Car: #class constructor\n",
        "  def __init__(self,name,color,mileage):\n",
        "    self.name = name #car attributes\n",
        "    self.color = color\n",
        "    self.mileage = mileage\n",
        "obj1 = Car(\"BNW\", \"Red\", 1000) #object name\n",
        "obj2 = Car(\"Toyota\", \"Blue\", 1200)\n",
        "\n",
        "print(obj1.name)\n",
        "print(obj1.color)\n",
        "print(obj1.mileage)\n",
        "\n",
        "print(obj2.mileage)\n"
      ],
      "metadata": {
        "colab": {
          "base_uri": "https://localhost:8080/"
        },
        "id": "5oI-duKii_Dp",
        "outputId": "c42864b2-9479-4530-a2a1-94fc378ebbd9"
      },
      "execution_count": 28,
      "outputs": [
        {
          "output_type": "stream",
          "name": "stdout",
          "text": [
            "BNW\n",
            "Red\n",
            "1000\n",
            "1200\n"
          ]
        }
      ]
    },
    {
      "cell_type": "markdown",
      "source": [
        "Application 1 - Write a python program that prints out your student information with the following attributes: Name, Age, Course, Section.\n",
        "Use class name student()"
      ],
      "metadata": {
        "id": "_eCpnrWXj83D"
      }
    },
    {
      "cell_type": "code",
      "source": [
        "class namestudent: #class constructor\n",
        "  def __init__(self,name,age,course,section):\n",
        "    self.name = name #student attributes\n",
        "    self.age = age\n",
        "    self.course = course\n",
        "    self.section = section\n",
        "\n",
        "obj1 = namestudent(\"Jalene Santiago\",\"19 years old\",\"BS Computer Engineering\", \"CPE12S6\")\n",
        "\n",
        "print(\"The student's name is: \", obj1.name)\n",
        "print(\"The student's age is: \", obj1.age)\n",
        "print(\"The student's course is: \", obj1.course)\n",
        "print(\"The student's section is: \", obj1.section)"
      ],
      "metadata": {
        "colab": {
          "base_uri": "https://localhost:8080/"
        },
        "id": "TrtOyXbqjRiB",
        "outputId": "c3507025-4c35-46f8-f7a0-97a55b457010"
      },
      "execution_count": 31,
      "outputs": [
        {
          "output_type": "stream",
          "name": "stdout",
          "text": [
            "The student's name is:  Jalene Santiago\n",
            "The student's age is:  19 years old\n",
            "The student's course is:  BS Computer Engineering\n",
            "The student's section is:  CPE12S6\n"
          ]
        }
      ]
    }
  ]
}