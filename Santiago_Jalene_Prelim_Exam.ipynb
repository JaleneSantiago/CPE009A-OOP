{
  "nbformat": 4,
  "nbformat_minor": 0,
  "metadata": {
    "colab": {
      "provenance": [],
      "authorship_tag": "ABX9TyOH4y169qLNubz35VY4rMJa",
      "include_colab_link": true
    },
    "kernelspec": {
      "name": "python3",
      "display_name": "Python 3"
    },
    "language_info": {
      "name": "python"
    }
  },
  "cells": [
    {
      "cell_type": "markdown",
      "metadata": {
        "id": "view-in-github",
        "colab_type": "text"
      },
      "source": [
        "<a href=\"https://colab.research.google.com/github/JaleneSantiago/CPE009A-OOP/blob/main/Santiago_Jalene_Prelim_Exam.ipynb\" target=\"_parent\"><img src=\"https://colab.research.google.com/assets/colab-badge.svg\" alt=\"Open In Colab\"/></a>"
      ]
    },
    {
      "cell_type": "code",
      "execution_count": 1,
      "metadata": {
        "colab": {
          "base_uri": "https://localhost:8080/"
        },
        "id": "8VXnFAs4p1PO",
        "outputId": "f4c7d0ac-0907-4cfb-e3f0-5de311a3548a"
      },
      "outputs": [
        {
          "output_type": "stream",
          "name": "stdout",
          "text": [
            "3\n"
          ]
        }
      ],
      "source": [
        "x=0\n",
        "a=5\n",
        "b=5\n",
        "if a>0:\n",
        "  if b<0:\n",
        "    x=x+5\n",
        "  elif a>5:\n",
        "    x=x+4\n",
        "  else:\n",
        "    x=x+3\n",
        "else:\n",
        "  x=x+2\n",
        "print (x)\n",
        ""
      ]
    },
    {
      "cell_type": "code",
      "source": [
        "a,b=12,5\n",
        "if a+b:\n",
        "  print ('True')\n",
        "else:\n",
        "  print ('False')"
      ],
      "metadata": {
        "colab": {
          "base_uri": "https://localhost:8080/"
        },
        "id": "6pElTy99rP8K",
        "outputId": "564c7f3a-fe41-400d-ab5a-1f3b15597a60"
      },
      "execution_count": 2,
      "outputs": [
        {
          "output_type": "stream",
          "name": "stdout",
          "text": [
            "True\n"
          ]
        }
      ]
    },
    {
      "cell_type": "code",
      "source": [
        "2**(3**2)\n",
        "(2**3)**2\n",
        "2**3**2"
      ],
      "metadata": {
        "colab": {
          "base_uri": "https://localhost:8080/"
        },
        "id": "0IgNFaAKsONB",
        "outputId": "48873a3d-3617-4b91-e937-f956f88efc11"
      },
      "execution_count": 10,
      "outputs": [
        {
          "output_type": "execute_result",
          "data": {
            "text/plain": [
              "512"
            ]
          },
          "metadata": {},
          "execution_count": 10
        }
      ]
    },
    {
      "cell_type": "code",
      "source": [
        "a=33\n",
        "b=33\n",
        "if b>a:\n",
        "  print ('b is greater than a')\n",
        "elif a == b:\n",
        "  print('a and b are equal')"
      ],
      "metadata": {
        "colab": {
          "base_uri": "https://localhost:8080/"
        },
        "id": "Gf2z4NJqtVkR",
        "outputId": "82e751b1-203d-4016-f4e1-77f62163ffc3"
      },
      "execution_count": 11,
      "outputs": [
        {
          "output_type": "stream",
          "name": "stdout",
          "text": [
            "a and b are equal\n"
          ]
        }
      ]
    },
    {
      "cell_type": "code",
      "source": [
        "fullname=input('enter your full name')\n",
        "age=input ('enter your age')\n",
        "print(\"fullname and age: \"+fullname +\" \"+ \"and\"+\" \"+age)"
      ],
      "metadata": {
        "colab": {
          "base_uri": "https://localhost:8080/"
        },
        "id": "bVM5XV7vwKer",
        "outputId": "15bb4087-47ff-47b0-c4ed-253063e3aeb7"
      },
      "execution_count": 13,
      "outputs": [
        {
          "output_type": "stream",
          "name": "stdout",
          "text": [
            "enter your full namejalene santiago\n",
            "enter your age19\n",
            "fullname and age: jalene santiago and 19\n"
          ]
        }
      ]
    }
  ]
}