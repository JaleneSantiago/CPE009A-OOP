{
  "nbformat": 4,
  "nbformat_minor": 0,
  "metadata": {
    "colab": {
      "provenance": [],
      "authorship_tag": "ABX9TyPexBVFMejvombSP2rfpcct",
      "include_colab_link": true
    },
    "kernelspec": {
      "name": "python3",
      "display_name": "Python 3"
    },
    "language_info": {
      "name": "python"
    }
  },
  "cells": [
    {
      "cell_type": "markdown",
      "metadata": {
        "id": "view-in-github",
        "colab_type": "text"
      },
      "source": [
        "<a href=\"https://colab.research.google.com/github/JaleneSantiago/CPE009A-OOP/blob/main/exercise1.ipynb\" target=\"_parent\"><img src=\"https://colab.research.google.com/assets/colab-badge.svg\" alt=\"Open In Colab\"/></a>"
      ]
    },
    {
      "cell_type": "markdown",
      "source": [
        "Algorithm to get the perimeter and area of a rectangle\n",
        "\n",
        "1. Start\n",
        "2. Input length and width\n",
        "3. Calculate perimeter = 2(length + width)\n",
        "4. Calculate area = length * width\n",
        "5. Output perimeter and area\n",
        "6. End\n",
        "\n",
        "\n"
      ],
      "metadata": {
        "id": "2kaNoC5aYC1N"
      }
    },
    {
      "cell_type": "code",
      "source": [
        "length=int(input(\"enter the length of the rectangle \"))\n",
        "width=int(input(\"enter the width of the rectangle \"))\n",
        "perimeter=(int(length+width))*2\n",
        "area=(int(length*width))\n",
        "print (\"the perimeter of the rectangle is: \",perimeter)\n",
        "print (\"the area of the rectangle is: \",area)"
      ],
      "metadata": {
        "colab": {
          "base_uri": "https://localhost:8080/"
        },
        "id": "mnrS3Z14YVWn",
        "outputId": "8b433104-3261-43c6-c2c9-67142afe5289"
      },
      "execution_count": null,
      "outputs": [
        {
          "output_type": "stream",
          "name": "stdout",
          "text": [
            "enter the length of the rectangle 5\n",
            "enter the width of the rectangle 2\n",
            "the perimeter of the rectangle is:  14\n",
            "the area of the rectangle is:  10\n"
          ]
        }
      ]
    }
  ]
}